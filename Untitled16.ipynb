{
  "nbformat": 4,
  "nbformat_minor": 0,
  "metadata": {
    "colab": {
      "name": "Untitled16.ipynb",
      "provenance": [],
      "authorship_tag": "ABX9TyP4wRsv4+0e3tps21smeO/Q",
      "include_colab_link": true
    },
    "kernelspec": {
      "name": "python3",
      "display_name": "Python 3"
    },
    "language_info": {
      "name": "python"
    }
  },
  "cells": [
    {
      "cell_type": "markdown",
      "metadata": {
        "id": "view-in-github",
        "colab_type": "text"
      },
      "source": [
        "<a href=\"https://colab.research.google.com/github/jesnamm/ds/blob/main/Untitled16.ipynb\" target=\"_parent\"><img src=\"https://colab.research.google.com/assets/colab-badge.svg\" alt=\"Open In Colab\"/></a>"
      ]
    },
    {
      "cell_type": "code",
      "execution_count": 35,
      "metadata": {
        "colab": {
          "base_uri": "https://localhost:8080/"
        },
        "id": "PBB03sJEy80b",
        "outputId": "25dfd1c4-5c7d-4de4-f2fc-b4a38bd50c2b"
      },
      "outputs": [
        {
          "output_type": "stream",
          "name": "stdout",
          "text": [
            "Collecting git+https://github.com/alirezamika/autoscraper.git\n",
            "  Cloning https://github.com/alirezamika/autoscraper.git to /tmp/pip-req-build-4vmq8gs0\n",
            "  Running command git clone -q https://github.com/alirezamika/autoscraper.git /tmp/pip-req-build-4vmq8gs0\n",
            "Requirement already satisfied: requests in /usr/local/lib/python3.7/dist-packages (from autoscraper==1.1.12) (2.23.0)\n",
            "Requirement already satisfied: bs4 in /usr/local/lib/python3.7/dist-packages (from autoscraper==1.1.12) (0.0.1)\n",
            "Requirement already satisfied: lxml in /usr/local/lib/python3.7/dist-packages (from autoscraper==1.1.12) (4.2.6)\n",
            "Requirement already satisfied: beautifulsoup4 in /usr/local/lib/python3.7/dist-packages (from bs4->autoscraper==1.1.12) (4.6.3)\n",
            "Requirement already satisfied: certifi>=2017.4.17 in /usr/local/lib/python3.7/dist-packages (from requests->autoscraper==1.1.12) (2021.10.8)\n",
            "Requirement already satisfied: chardet<4,>=3.0.2 in /usr/local/lib/python3.7/dist-packages (from requests->autoscraper==1.1.12) (3.0.4)\n",
            "Requirement already satisfied: idna<3,>=2.5 in /usr/local/lib/python3.7/dist-packages (from requests->autoscraper==1.1.12) (2.10)\n",
            "Requirement already satisfied: urllib3!=1.25.0,!=1.25.1,<1.26,>=1.21.1 in /usr/local/lib/python3.7/dist-packages (from requests->autoscraper==1.1.12) (1.24.3)\n"
          ]
        }
      ],
      "source": [
        "pip install git+https://github.com/alirezamika/autoscraper.git"
      ]
    },
    {
      "cell_type": "code",
      "source": [
        "pip install autoscraper"
      ],
      "metadata": {
        "colab": {
          "base_uri": "https://localhost:8080/"
        },
        "id": "v0vsoWMnzaAq",
        "outputId": "55e18c76-f54b-4cf1-bf5d-26a6f6c1be9a"
      },
      "execution_count": 36,
      "outputs": [
        {
          "output_type": "stream",
          "name": "stdout",
          "text": [
            "Requirement already satisfied: autoscraper in /usr/local/lib/python3.7/dist-packages (1.1.12)\n",
            "Requirement already satisfied: bs4 in /usr/local/lib/python3.7/dist-packages (from autoscraper) (0.0.1)\n",
            "Requirement already satisfied: requests in /usr/local/lib/python3.7/dist-packages (from autoscraper) (2.23.0)\n",
            "Requirement already satisfied: lxml in /usr/local/lib/python3.7/dist-packages (from autoscraper) (4.2.6)\n",
            "Requirement already satisfied: beautifulsoup4 in /usr/local/lib/python3.7/dist-packages (from bs4->autoscraper) (4.6.3)\n",
            "Requirement already satisfied: urllib3!=1.25.0,!=1.25.1,<1.26,>=1.21.1 in /usr/local/lib/python3.7/dist-packages (from requests->autoscraper) (1.24.3)\n",
            "Requirement already satisfied: idna<3,>=2.5 in /usr/local/lib/python3.7/dist-packages (from requests->autoscraper) (2.10)\n",
            "Requirement already satisfied: chardet<4,>=3.0.2 in /usr/local/lib/python3.7/dist-packages (from requests->autoscraper) (3.0.4)\n",
            "Requirement already satisfied: certifi>=2017.4.17 in /usr/local/lib/python3.7/dist-packages (from requests->autoscraper) (2021.10.8)\n"
          ]
        }
      ]
    },
    {
      "cell_type": "code",
      "source": [
        "from autoscraper import AutoScraper"
      ],
      "metadata": {
        "id": "uQmyfyCL1c5j"
      },
      "execution_count": 37,
      "outputs": []
    },
    {
      "cell_type": "code",
      "source": [
        ""
      ],
      "metadata": {
        "id": "pq4J_J0f6NkV"
      },
      "execution_count": 38,
      "outputs": []
    },
    {
      "cell_type": "code",
      "source": [
        "url = 'https://en.wikipedia.org/wiki/Food/'\n",
        "wanted_list = ['Food']"
      ],
      "metadata": {
        "id": "RReN4SDP6bjE"
      },
      "execution_count": 42,
      "outputs": []
    },
    {
      "cell_type": "code",
      "source": [
        "scraper = AutoScraper()"
      ],
      "metadata": {
        "id": "mwV4LrE567gf"
      },
      "execution_count": 43,
      "outputs": []
    },
    {
      "cell_type": "code",
      "source": [
        "scraper = AutoScraper()\n",
        "result = scraper.build(url, wanted_list)\n",
        "print(result)"
      ],
      "metadata": {
        "colab": {
          "base_uri": "https://localhost:8080/"
        },
        "id": "PwlgyChX6REj",
        "outputId": "86a02875-d055-44b8-8aeb-99ce138dde9f"
      },
      "execution_count": 44,
      "outputs": [
        {
          "output_type": "stream",
          "name": "stdout",
          "text": [
            "[]\n"
          ]
        }
      ]
    },
    {
      "cell_type": "code",
      "source": [
        "url = 'https://www.indianhealthyrecipes.com/recipes/sweets-desserts/'\n",
        "wanted_list = ['Jalebi recipe']\n",
        "scraper = AutoScraper()\n",
        "result = scraper.build(url, wanted_list)\n",
        "print(result)"
      ],
      "metadata": {
        "colab": {
          "base_uri": "https://localhost:8080/"
        },
        "id": "TRK51THL1zt6",
        "outputId": "cccc5fc0-28a2-4a9e-cfbc-e0a5e167fe94"
      },
      "execution_count": 47,
      "outputs": [
        {
          "output_type": "stream",
          "name": "stdout",
          "text": [
            "['Breakfast Recipes', 'Rice Recipes', 'Cake Recipes', 'Jalebi recipe', 'Rasmalai reci...', 'Besan Ladoo R...', 'Rava laddu re...', 'Indian dinner...', 'Ragi recipes']\n"
          ]
        }
      ]
    },
    {
      "cell_type": "code",
      "source": [
        "scraper.save('blogs')  "
      ],
      "metadata": {
        "id": "c_rSd8yd13OK"
      },
      "execution_count": null,
      "outputs": []
    },
    {
      "cell_type": "code",
      "source": [
        "scraper.load('blogs')"
      ],
      "metadata": {
        "id": "V5TiO22315fq"
      },
      "execution_count": null,
      "outputs": []
    },
    {
      "cell_type": "code",
      "source": [
        "proxies = {\n",
        "    \"http\": 'http://127.0.0.1:8001',\n",
        "    \"https\": 'https://127.0.0.1:8001',\n",
        "}\n",
        "\n",
        "result = scraper.build(url, wanted_list, request_args=dict(proxies=proxies))"
      ],
      "metadata": {
        "id": "y_HJTq4Y17uy"
      },
      "execution_count": null,
      "outputs": []
    }
  ]
}